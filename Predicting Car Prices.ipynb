{
 "cells": [
  {
   "cell_type": "markdown",
   "metadata": {
    "collapsed": true
   },
   "source": [
    "using k-nearest neighbors algorithm to predict car prices"
   ]
  },
  {
   "cell_type": "markdown",
   "metadata": {},
   "source": [
    "import libraries"
   ]
  },
  {
   "cell_type": "code",
   "execution_count": 94,
   "metadata": {
    "collapsed": false
   },
   "outputs": [],
   "source": [
    "import pandas as pd\n",
    "from sklearn.neighbors import KNeighborsRegressor\n",
    "from sklearn.metrics import mean_squared_error\n",
    "import numpy as np\n",
    "import math\n",
    "import matplotlib.pyplot as plt\n",
    "%matplotlib inline\n",
    "pd.options.display.max_columns=99"
   ]
  },
  {
   "cell_type": "markdown",
   "metadata": {},
   "source": [
    "load data set"
   ]
  },
  {
   "cell_type": "code",
   "execution_count": 72,
   "metadata": {
    "collapsed": true
   },
   "outputs": [],
   "source": [
    "cars=pd.read_csv('imports-85.data')"
   ]
  },
  {
   "cell_type": "markdown",
   "metadata": {},
   "source": [
    "explore data"
   ]
  },
  {
   "cell_type": "code",
   "execution_count": 73,
   "metadata": {
    "collapsed": false
   },
   "outputs": [
    {
     "name": "stdout",
     "output_type": "stream",
     "text": [
      "   3    ?  alfa-romero  gas  std   two  convertible  rwd  front  88.60  \\\n",
      "0  3    ?  alfa-romero  gas  std   two  convertible  rwd  front   88.6   \n",
      "1  1    ?  alfa-romero  gas  std   two    hatchback  rwd  front   94.5   \n",
      "2  2  164         audi  gas  std  four        sedan  fwd  front   99.8   \n",
      "3  2  164         audi  gas  std  four        sedan  4wd  front   99.4   \n",
      "4  2    ?         audi  gas  std   two        sedan  fwd  front   99.8   \n",
      "\n",
      "   168.80  64.10  48.80  2548  dohc  four  130  mpfi  3.47  2.68  9.00  111  \\\n",
      "0   168.8   64.1   48.8  2548  dohc  four  130  mpfi  3.47  2.68   9.0  111   \n",
      "1   171.2   65.5   52.4  2823  ohcv   six  152  mpfi  2.68  3.47   9.0  154   \n",
      "2   176.6   66.2   54.3  2337   ohc  four  109  mpfi  3.19  3.40  10.0  102   \n",
      "3   176.6   66.4   54.3  2824   ohc  five  136  mpfi  3.19  3.40   8.0  115   \n",
      "4   177.3   66.3   53.1  2507   ohc  five  136  mpfi  3.19  3.40   8.5  110   \n",
      "\n",
      "   5000  21  27  13495  \n",
      "0  5000  21  27  16500  \n",
      "1  5000  19  26  16500  \n",
      "2  5500  24  30  13950  \n",
      "3  5500  18  22  17450  \n",
      "4  5500  19  25  15250  \n",
      "(204, 26)\n"
     ]
    }
   ],
   "source": [
    "print(cars.head(5))\n",
    "print(cars.shape)"
   ]
  },
  {
   "cell_type": "markdown",
   "metadata": {},
   "source": [
    "**issue**: data set does not contain headers<br>\n",
    "**solution**: manually set the column headers"
   ]
  },
  {
   "cell_type": "code",
   "execution_count": 74,
   "metadata": {
    "collapsed": false
   },
   "outputs": [],
   "source": [
    "column_headers=[\n",
    "    'symboling', \n",
    "    'normalized-losses',\n",
    "    'make', \n",
    "    'fuel-type',\n",
    "    'aspiration',\n",
    "    'num-of-doors',\n",
    "    'body-style',\n",
    "    'drive-wheels',\n",
    "    'engine-location', \n",
    "    'wheel-base',\n",
    "    'length', \n",
    "    'width', \n",
    "    'height', \n",
    "    'curb-weight', \n",
    "    'engine-type', \n",
    "    'num-of-cylinders', \n",
    "    'engine-size', \n",
    "    'fuel-system', \n",
    "    'bore',\n",
    "    'stroke', \n",
    "    'compression-ratio',\n",
    "    'horsepower', \n",
    "    'peak-rpm', \n",
    "    'city-mpg', \n",
    "    'highway-mpg',\n",
    "    'price'\n",
    "    ]\n",
    "cars=pd.read_csv('imports-85.data', names=column_headers)"
   ]
  },
  {
   "cell_type": "code",
   "execution_count": 75,
   "metadata": {
    "collapsed": false
   },
   "outputs": [
    {
     "name": "stdout",
     "output_type": "stream",
     "text": [
      "   symboling normalized-losses         make fuel-type aspiration num-of-doors  \\\n",
      "0          3                 ?  alfa-romero       gas        std          two   \n",
      "1          3                 ?  alfa-romero       gas        std          two   \n",
      "2          1                 ?  alfa-romero       gas        std          two   \n",
      "3          2               164         audi       gas        std         four   \n",
      "4          2               164         audi       gas        std         four   \n",
      "\n",
      "    body-style drive-wheels engine-location  wheel-base  length  width  \\\n",
      "0  convertible          rwd           front        88.6   168.8   64.1   \n",
      "1  convertible          rwd           front        88.6   168.8   64.1   \n",
      "2    hatchback          rwd           front        94.5   171.2   65.5   \n",
      "3        sedan          fwd           front        99.8   176.6   66.2   \n",
      "4        sedan          4wd           front        99.4   176.6   66.4   \n",
      "\n",
      "   height  curb-weight engine-type num-of-cylinders  engine-size fuel-system  \\\n",
      "0    48.8         2548        dohc             four          130        mpfi   \n",
      "1    48.8         2548        dohc             four          130        mpfi   \n",
      "2    52.4         2823        ohcv              six          152        mpfi   \n",
      "3    54.3         2337         ohc             four          109        mpfi   \n",
      "4    54.3         2824         ohc             five          136        mpfi   \n",
      "\n",
      "   bore stroke  compression-ratio horsepower peak-rpm  city-mpg  highway-mpg  \\\n",
      "0  3.47   2.68                9.0        111     5000        21           27   \n",
      "1  3.47   2.68                9.0        111     5000        21           27   \n",
      "2  2.68   3.47                9.0        154     5000        19           26   \n",
      "3  3.19   3.40               10.0        102     5500        24           30   \n",
      "4  3.19   3.40                8.0        115     5500        18           22   \n",
      "\n",
      "   price  \n",
      "0  13495  \n",
      "1  16500  \n",
      "2  16500  \n",
      "3  13950  \n",
      "4  17450  \n",
      "(205, 26)\n"
     ]
    }
   ],
   "source": [
    "print(cars.head(5))\n",
    "print(cars.shape)"
   ]
  },
  {
   "cell_type": "markdown",
   "metadata": {},
   "source": [
    "determine which columns are numeric and the target column"
   ]
  },
  {
   "cell_type": "code",
   "execution_count": 76,
   "metadata": {
    "collapsed": true
   },
   "outputs": [],
   "source": [
    "numeric_columns=[\n",
    "    'normalized-losses', \n",
    "    'wheel-base', \n",
    "    'length', \n",
    "    'width', \n",
    "    'height', \n",
    "    'curb-weight', \n",
    "    'engine-size', \n",
    "    'bore', \n",
    "    'stroke', \n",
    "    'compression-ratio', \n",
    "    'horsepower', \n",
    "    'peak-rpm', \n",
    "    'city-mpg', \n",
    "    'highway-mpg', \n",
    "    'price'\n",
    "    ]"
   ]
  },
  {
   "cell_type": "markdown",
   "metadata": {},
   "source": [
    "# data clean up\n",
    "\n",
    "-  replace '?' values\n",
    "-  remove rows where price is null\n",
    "-  replace null values with averages\n",
    "-  normalize columns to between 0 and 1 except target column (price)"
   ]
  },
  {
   "cell_type": "code",
   "execution_count": 77,
   "metadata": {
    "collapsed": false
   },
   "outputs": [
    {
     "name": "stdout",
     "output_type": "stream",
     "text": [
      "normalized-losses    0\n",
      "wheel-base           0\n",
      "length               0\n",
      "width                0\n",
      "height               0\n",
      "curb-weight          0\n",
      "engine-size          0\n",
      "bore                 0\n",
      "stroke               0\n",
      "compression-ratio    0\n",
      "horsepower           0\n",
      "peak-rpm             0\n",
      "city-mpg             0\n",
      "highway-mpg          0\n",
      "price                0\n",
      "dtype: int64\n"
     ]
    }
   ],
   "source": [
    "cars_clean=cars[numeric_columns].replace('?', np.nan).astype('float')\n",
    "cars_clean=cars_clean.dropna(subset=['price'])\n",
    "# cars_clean=cars_clean.fillna(cars_clean.mean(axis=0))\n",
    "cars_clean=cars_clean.fillna(cars_clean.mean())\n",
    "print(cars_clean.isnull().sum())\n",
    "price=cars_clean['price']\n",
    "# cars_clean=(cars_clean-cars_clean.min(axis=0))/(cars_clean.max(axis=0)-cars_clean.min(axis=0))\n",
    "cars_clean=(cars_clean-cars_clean.min())/(cars_clean.max()-cars_clean.min())\n",
    "cars_clean['price']=price"
   ]
  },
  {
   "cell_type": "markdown",
   "metadata": {
    "collapsed": false
   },
   "source": [
    "# model building\n",
    "## univariate k-nearest neighbors model"
   ]
  },
  {
   "cell_type": "code",
   "execution_count": 78,
   "metadata": {
    "collapsed": true
   },
   "outputs": [],
   "source": [
    "#training_col as a matrix object\n",
    "def knn_train_test(training_col, target_col, df): \n",
    "    np.random.seed(1)\n",
    "    shuffled_df=df.reindex(np.random.permutation(df.index))\n",
    "    last_train_row=int(len(shuffled_df)/2)\n",
    "    train_df=shuffled_df.iloc[0:last_train_row]\n",
    "    test_df=shuffled_df.iloc[last_train_row:]\n",
    "    knn=KNeighborsRegressor()\n",
    "    knn.fit(train_df[training_col], train_df[target_col])\n",
    "    predictions=knn.predict(test_df[training_col])\n",
    "    rmse=math.sqrt(mean_squared_error(test_df[target_col], predictions))\n",
    "    return rmse"
   ]
  },
  {
   "cell_type": "code",
   "execution_count": 79,
   "metadata": {
    "collapsed": false
   },
   "outputs": [],
   "source": [
    "train_columns=numeric_columns\n",
    "train_columns.remove('price')"
   ]
  },
  {
   "cell_type": "markdown",
   "metadata": {},
   "source": [
    "test performance of each feature using default k value"
   ]
  },
  {
   "cell_type": "code",
   "execution_count": 81,
   "metadata": {
    "collapsed": false
   },
   "outputs": [
    {
     "name": "stdout",
     "output_type": "stream",
     "text": [
      "{'height': 8144.441042663747, 'horsepower': 4037.0377131537603, 'width': 4704.482589704386, 'city-mpg': 4766.422505090134, 'engine-size': 3238.4628296477176, 'peak-rpm': 7697.4596964334805, 'compression-ratio': 6610.812153159129, 'wheel-base': 5461.553997873057, 'normalized-losses': 7330.197653434445, 'stroke': 8006.529544647101, 'length': 5427.2009608367125, 'curb-weight': 4401.118254793124, 'bore': 6780.627784685976, 'highway-mpg': 4630.026798588056}\n"
     ]
    }
   ],
   "source": [
    "rmse_per_feat={}\n",
    "for each_column in train_columns:\n",
    "    train_feat=[each_column]\n",
    "    rmse=knn_train_test(train_feat, 'price', cars_clean)\n",
    "    rmse_per_feat[each_column]=rmse\n",
    "print(rmse_per_feat)"
   ]
  },
  {
   "cell_type": "code",
   "execution_count": 82,
   "metadata": {
    "collapsed": false
   },
   "outputs": [
    {
     "name": "stdout",
     "output_type": "stream",
     "text": [
      "[('engine-size', 3238.4628296477176), ('horsepower', 4037.0377131537603), ('curb-weight', 4401.118254793124), ('highway-mpg', 4630.026798588056), ('width', 4704.482589704386), ('city-mpg', 4766.422505090134), ('length', 5427.2009608367125), ('wheel-base', 5461.553997873057), ('compression-ratio', 6610.812153159129), ('bore', 6780.627784685976), ('normalized-losses', 7330.197653434445), ('peak-rpm', 7697.4596964334805), ('stroke', 8006.529544647101), ('height', 8144.441042663747)]\n"
     ]
    }
   ],
   "source": [
    "sorted_rmse_per_feat=sorted(rmse_per_feat.items(), key=lambda x: x[1])\n",
    "print(sorted_rmse_per_feat)"
   ]
  },
  {
   "cell_type": "markdown",
   "metadata": {},
   "source": [
    "at the default k value, 'engine-size' seems to create the least biased univariate k-nearest neighbors model, followed by 'horsepower'"
   ]
  },
  {
   "cell_type": "markdown",
   "metadata": {},
   "source": [
    "modify the knn_train_test() function to accept k"
   ]
  },
  {
   "cell_type": "code",
   "execution_count": 128,
   "metadata": {
    "collapsed": false
   },
   "outputs": [],
   "source": [
    "def knn_train_test(training_col, target_col, df, k_values): \n",
    "    np.random.seed(1)\n",
    "    shuffled_df=df.reindex(np.random.permutation(df.index))\n",
    "    last_train_row=int(len(shuffled_df)/2)\n",
    "    train_df=shuffled_df.iloc[0:last_train_row]\n",
    "    test_df=shuffled_df.iloc[last_train_row:]\n",
    "    k_rmse=[]\n",
    "    for each_k in k_values:\n",
    "        knn=KNeighborsRegressor(n_neighbors=each_k)\n",
    "        knn.fit(train_df[training_col], train_df[target_col])\n",
    "        predictions=knn.predict(test_df[training_col])\n",
    "        rmse=math.sqrt(mean_squared_error(test_df[target_col], predictions))\n",
    "        k_rmse.append(rmse)\n",
    "    return k_rmse"
   ]
  },
  {
   "cell_type": "code",
   "execution_count": 129,
   "metadata": {
    "collapsed": false
   },
   "outputs": [
    {
     "name": "stdout",
     "output_type": "stream",
     "text": [
      "{'height': [8904.04645636071, 8277.609643045525, 8144.441042663747, 7679.598124393773, 7811.03606291223], 'horsepower': [4170.054848037801, 4020.8492630885394, 4037.0377131537603, 4353.811860277134, 4515.135617419103], 'width': [4559.257297950061, 4606.413692169901, 4704.482589704386, 4571.485046194653, 4652.914172067787], 'city-mpg': [5901.143574354764, 4646.746408727155, 4766.422505090134, 5232.523034167316, 5465.209492527533], 'engine-size': [3258.4861059962027, 2840.562805643501, 3238.4628296477176, 3563.086774256415, 3831.8244149840766], 'peak-rpm': [9511.480067750124, 8537.550899973421, 7697.4596964334805, 7510.294160083481, 7340.041341263401], 'compression-ratio': [8087.205346523092, 7375.063685578359, 6610.812153159129, 6732.801282941515, 7024.485525463435], 'wheel-base': [4493.734068810494, 5120.161506064513, 5461.553997873057, 5448.1070513823315, 5738.405685192312], 'normalized-losses': [7846.750605148984, 7500.5698123109905, 7330.197653434445, 7756.421586234123, 7688.096096891432], 'stroke': [9116.495955406906, 7338.68466990294, 8006.529544647101, 7803.937796804327, 7735.554366079291], 'length': [4628.45550121557, 5129.8358210721635, 5427.2009608367125, 5313.427720847974, 5383.054514833446], 'curb-weight': [5264.290230758878, 5022.318011757233, 4401.118254793124, 4330.608104418053, 4632.044474454401], 'bore': [8602.58848450066, 6984.239489480916, 6780.627784685976, 6878.097965921532, 6866.808502038413], 'highway-mpg': [6025.594966720739, 4617.305019788554, 4630.026798588056, 4796.061440186946, 5278.358056953987]}\n"
     ]
    },
    {
     "data": {
      "text/plain": [
       "{'bore': [8602.58848450066,\n",
       "  6984.239489480916,\n",
       "  6780.627784685976,\n",
       "  6878.097965921532,\n",
       "  6866.808502038413],\n",
       " 'city-mpg': [5901.143574354764,\n",
       "  4646.746408727155,\n",
       "  4766.422505090134,\n",
       "  5232.523034167316,\n",
       "  5465.209492527533],\n",
       " 'compression-ratio': [8087.205346523092,\n",
       "  7375.063685578359,\n",
       "  6610.812153159129,\n",
       "  6732.801282941515,\n",
       "  7024.485525463435],\n",
       " 'curb-weight': [5264.290230758878,\n",
       "  5022.318011757233,\n",
       "  4401.118254793124,\n",
       "  4330.608104418053,\n",
       "  4632.044474454401],\n",
       " 'engine-size': [3258.4861059962027,\n",
       "  2840.562805643501,\n",
       "  3238.4628296477176,\n",
       "  3563.086774256415,\n",
       "  3831.8244149840766],\n",
       " 'height': [8904.04645636071,\n",
       "  8277.609643045525,\n",
       "  8144.441042663747,\n",
       "  7679.598124393773,\n",
       "  7811.03606291223],\n",
       " 'highway-mpg': [6025.594966720739,\n",
       "  4617.305019788554,\n",
       "  4630.026798588056,\n",
       "  4796.061440186946,\n",
       "  5278.358056953987],\n",
       " 'horsepower': [4170.054848037801,\n",
       "  4020.8492630885394,\n",
       "  4037.0377131537603,\n",
       "  4353.811860277134,\n",
       "  4515.135617419103],\n",
       " 'length': [4628.45550121557,\n",
       "  5129.8358210721635,\n",
       "  5427.2009608367125,\n",
       "  5313.427720847974,\n",
       "  5383.054514833446],\n",
       " 'normalized-losses': [7846.750605148984,\n",
       "  7500.5698123109905,\n",
       "  7330.197653434445,\n",
       "  7756.421586234123,\n",
       "  7688.096096891432],\n",
       " 'peak-rpm': [9511.480067750124,\n",
       "  8537.550899973421,\n",
       "  7697.4596964334805,\n",
       "  7510.294160083481,\n",
       "  7340.041341263401],\n",
       " 'stroke': [9116.495955406906,\n",
       "  7338.68466990294,\n",
       "  8006.529544647101,\n",
       "  7803.937796804327,\n",
       "  7735.554366079291],\n",
       " 'wheel-base': [4493.734068810494,\n",
       "  5120.161506064513,\n",
       "  5461.553997873057,\n",
       "  5448.1070513823315,\n",
       "  5738.405685192312],\n",
       " 'width': [4559.257297950061,\n",
       "  4606.413692169901,\n",
       "  4704.482589704386,\n",
       "  4571.485046194653,\n",
       "  4652.914172067787]}"
      ]
     },
     "execution_count": 129,
     "metadata": {},
     "output_type": "execute_result"
    }
   ],
   "source": [
    "k_rmse_per_feat={}\n",
    "for each_column in train_columns:\n",
    "    train_feat=[each_column]\n",
    "    k_values=[1, 3, 5, 7, 9]\n",
    "    k_rmse=knn_train_test(train_feat, 'price', cars_clean, k_values)\n",
    "    k_rmse_per_feat[each_column]=k_rmse\n",
    "print(k_rmse_per_feat)\n",
    "k_rmse_per_feat"
   ]
  },
  {
   "cell_type": "code",
   "execution_count": 111,
   "metadata": {
    "collapsed": false,
    "scrolled": true
   },
   "outputs": [
    {
     "data": {
      "image/png": "[encoded data removed]",
      "text/plain": [
       "<matplotlib.figure.Figure at 0x7fc2729f2da0>"
      ]
     },
     "metadata": {},
     "output_type": "display_data"
    }
   ],
   "source": [
    "for feat, k_rmse in k_rmse_per_feat.items():\n",
    "    x=[1, 3, 5, 7, 9]\n",
    "    y=k_rmse\n",
    "    plt.plot(x, y)\n",
    "    plt.xlabel('k values')\n",
    "    plt.ylabel('rmse')\n",
    "plt.show()"
   ]
  },
  {
   "cell_type": "markdown",
   "metadata": {},
   "source": [
    "## multivariate model"
   ]
  },
  {
   "cell_type": "markdown",
   "metadata": {},
   "source": [
    "modify the model to accept multiple columns"
   ]
  },
  {
   "cell_type": "code",
   "execution_count": 112,
   "metadata": {
    "collapsed": true
   },
   "outputs": [],
   "source": [
    "def knn_train_test(training_col, target_col, df): \n",
    "    np.random.seed(1)\n",
    "    shuffled_df=df.reindex(np.random.permutation(df.index))\n",
    "    last_train_row=int(len(shuffled_df)/2)\n",
    "    train_df=shuffled_df.iloc[0:last_train_row]\n",
    "    test_df=shuffled_df.iloc[last_train_row:]\n",
    "    knn=KNeighborsRegressor()\n",
    "    knn.fit(train_df[training_col], train_df[target_col])\n",
    "    predictions=knn.predict(test_df[training_col])\n",
    "    rmse=math.sqrt(mean_squared_error(test_df[target_col], predictions))\n",
    "    return rmse"
   ]
  },
  {
   "cell_type": "markdown",
   "metadata": {},
   "source": [
    "Use the best 2 features from the previous step to train and test a multivariate k-nearest neighbors model using the default k value"
   ]
  },
  {
   "cell_type": "code",
   "execution_count": 117,
   "metadata": {
    "collapsed": false
   },
   "outputs": [
    {
     "name": "stdout",
     "output_type": "stream",
     "text": [
      "2949.8817277180374\n"
     ]
    }
   ],
   "source": [
    "train_feat=['engine-size', 'horsepower']\n",
    "rmse=knn_train_test(train_feat, 'price', cars_clean)\n",
    "print(rmse)"
   ]
  },
  {
   "cell_type": "markdown",
   "metadata": {},
   "source": [
    "Use the best 3 features from the previous step to train and test a multivariate k-nearest neighbors model using the default k value"
   ]
  },
  {
   "cell_type": "code",
   "execution_count": 118,
   "metadata": {
    "collapsed": false
   },
   "outputs": [
    {
     "name": "stdout",
     "output_type": "stream",
     "text": [
      "3435.2601095401815\n"
     ]
    }
   ],
   "source": [
    "train_feat=['engine-size', 'horsepower', 'curb-weight']\n",
    "rmse=knn_train_test(train_feat, 'price', cars_clean)\n",
    "print(rmse)"
   ]
  },
  {
   "cell_type": "markdown",
   "metadata": {},
   "source": [
    "Use the best 4 features from the previous step to train and test a multivariate k-nearest neighbors model using the default k value"
   ]
  },
  {
   "cell_type": "code",
   "execution_count": 119,
   "metadata": {
    "collapsed": false
   },
   "outputs": [
    {
     "name": "stdout",
     "output_type": "stream",
     "text": [
      "3286.5597353252815\n"
     ]
    }
   ],
   "source": [
    "train_feat=['engine-size', 'horsepower', 'curb-weight', 'highway-mpg']\n",
    "rmse=knn_train_test(train_feat, 'price', cars_clean)\n",
    "print(rmse)"
   ]
  },
  {
   "cell_type": "markdown",
   "metadata": {},
   "source": [
    "Use the best 5 features from the previous step to train and test a multivariate k-nearest neighbors model using the default k value"
   ]
  },
  {
   "cell_type": "code",
   "execution_count": 120,
   "metadata": {
    "collapsed": false
   },
   "outputs": [
    {
     "name": "stdout",
     "output_type": "stream",
     "text": [
      "3410.2170133901805\n"
     ]
    }
   ],
   "source": [
    "train_feat=['engine-size', 'horsepower', 'curb-weight', 'highway-mpg', 'width']\n",
    "rmse=knn_train_test(train_feat, 'price', cars_clean)\n",
    "print(rmse)"
   ]
  },
  {
   "cell_type": "markdown",
   "metadata": {},
   "source": [
    "multiple k values with multivariate k-nearest neighbors model"
   ]
  },
  {
   "cell_type": "code",
   "execution_count": 130,
   "metadata": {
    "collapsed": true
   },
   "outputs": [],
   "source": [
    "def knn_train_test(training_col, target_col, df, k_values): \n",
    "    np.random.seed(1)\n",
    "    shuffled_df=df.reindex(np.random.permutation(df.index))\n",
    "    last_train_row=int(len(shuffled_df)/2)\n",
    "    train_df=shuffled_df.iloc[0:last_train_row]\n",
    "    test_df=shuffled_df.iloc[last_train_row:]\n",
    "    k_rmse=[]\n",
    "    for each_k in k_values:\n",
    "        knn=KNeighborsRegressor(n_neighbors=each_k)\n",
    "        knn.fit(train_df[training_col], train_df[target_col])\n",
    "        predictions=knn.predict(test_df[training_col])\n",
    "        rmse=math.sqrt(mean_squared_error(test_df[target_col], predictions))\n",
    "        k_rmse.append(rmse)\n",
    "    return k_rmse"
   ]
  },
  {
   "cell_type": "code",
   "execution_count": 135,
   "metadata": {
    "collapsed": false
   },
   "outputs": [
    {
     "name": "stdout",
     "output_type": "stream",
     "text": [
      "{'2 featurs': [2783.6204237227344, 2657.7963807419765, 2792.586573031673, 2891.5329686923255, 2949.8817277180374, 3096.402601694776, 3164.681969020496, 3413.228359192009, 3748.6716603306486, 4080.7125057341937, 4215.6372280600335, 4275.421524277872, 4373.901683035496, 4424.285137239815, 4539.505493095937, 4667.307671446768, 4729.605305844226, 4790.556632159094, 4824.3866193292615, 4840.850914693829, 4837.429062000271, 4831.16988267597, 4861.679492959275, 4903.346008862579], '4 featurs': [2927.820116343107, 2600.431466008274, 2799.0983199667144, 3074.9999988931822, 3286.5597353252815, 3705.1702717384333, 3822.180444798032, 3986.7014080509525, 4210.340136384571, 4213.315457869819, 4182.323353796191, 4288.696189501458, 4249.894628724804, 4357.287937912011, 4451.408927529352, 4459.2244133241875, 4495.028598279714, 4546.50352887804, 4643.185310790349, 4668.634597012364, 4698.7862455275545, 4700.1491313974975, 4711.210423921079, 4739.97994062864], '5 featurs': [2824.7061233282866, 2915.6731645496975, 3012.4204546509704, 3202.8876051367483, 3410.2170133901805, 3618.4509432660384, 3622.6290209234803, 3848.635835654326, 3977.8149139381726, 3994.8132211260104, 4159.843526607947, 4294.3389473154875, 4380.848359486949, 4466.368754416089, 4522.420711094978, 4536.427578452413, 4587.098443664006, 4622.107837952761, 4612.890107622797, 4632.693976139521, 4712.917548435062, 4676.301064518744, 4691.189310956096, 4755.990767231825]}\n"
     ]
    },
    {
     "data": {
      "text/plain": [
       "{'2 featurs': [2783.6204237227344,\n",
       "  2657.7963807419765,\n",
       "  2792.586573031673,\n",
       "  2891.5329686923255,\n",
       "  2949.8817277180374,\n",
       "  3096.402601694776,\n",
       "  3164.681969020496,\n",
       "  3413.228359192009,\n",
       "  3748.6716603306486,\n",
       "  4080.7125057341937,\n",
       "  4215.6372280600335,\n",
       "  4275.421524277872,\n",
       "  4373.901683035496,\n",
       "  4424.285137239815,\n",
       "  4539.505493095937,\n",
       "  4667.307671446768,\n",
       "  4729.605305844226,\n",
       "  4790.556632159094,\n",
       "  4824.3866193292615,\n",
       "  4840.850914693829,\n",
       "  4837.429062000271,\n",
       "  4831.16988267597,\n",
       "  4861.679492959275,\n",
       "  4903.346008862579],\n",
       " '4 featurs': [2927.820116343107,\n",
       "  2600.431466008274,\n",
       "  2799.0983199667144,\n",
       "  3074.9999988931822,\n",
       "  3286.5597353252815,\n",
       "  3705.1702717384333,\n",
       "  3822.180444798032,\n",
       "  3986.7014080509525,\n",
       "  4210.340136384571,\n",
       "  4213.315457869819,\n",
       "  4182.323353796191,\n",
       "  4288.696189501458,\n",
       "  4249.894628724804,\n",
       "  4357.287937912011,\n",
       "  4451.408927529352,\n",
       "  4459.2244133241875,\n",
       "  4495.028598279714,\n",
       "  4546.50352887804,\n",
       "  4643.185310790349,\n",
       "  4668.634597012364,\n",
       "  4698.7862455275545,\n",
       "  4700.1491313974975,\n",
       "  4711.210423921079,\n",
       "  4739.97994062864],\n",
       " '5 featurs': [2824.7061233282866,\n",
       "  2915.6731645496975,\n",
       "  3012.4204546509704,\n",
       "  3202.8876051367483,\n",
       "  3410.2170133901805,\n",
       "  3618.4509432660384,\n",
       "  3622.6290209234803,\n",
       "  3848.635835654326,\n",
       "  3977.8149139381726,\n",
       "  3994.8132211260104,\n",
       "  4159.843526607947,\n",
       "  4294.3389473154875,\n",
       "  4380.848359486949,\n",
       "  4466.368754416089,\n",
       "  4522.420711094978,\n",
       "  4536.427578452413,\n",
       "  4587.098443664006,\n",
       "  4622.107837952761,\n",
       "  4612.890107622797,\n",
       "  4632.693976139521,\n",
       "  4712.917548435062,\n",
       "  4676.301064518744,\n",
       "  4691.189310956096,\n",
       "  4755.990767231825]}"
      ]
     },
     "execution_count": 135,
     "metadata": {},
     "output_type": "execute_result"
    }
   ],
   "source": [
    "k_rmse_per_scene={}\n",
    "# 2 features\n",
    "train_feat=['engine-size', 'horsepower']\n",
    "k_values=range(1, 25)\n",
    "k_rmse=knn_train_test(train_feat, 'price', cars_clean, k_values)\n",
    "k_rmse_per_scene['2 featurs']=k_rmse\n",
    "# 4 features\n",
    "train_feat=['engine-size', 'horsepower', 'curb-weight', 'highway-mpg']\n",
    "k_values=range(1, 25)\n",
    "k_rmse=knn_train_test(train_feat, 'price', cars_clean, k_values)\n",
    "k_rmse_per_scene['4 featurs']=k_rmse\n",
    "# 5 features\n",
    "train_feat=['engine-size', 'horsepower', 'curb-weight', 'highway-mpg', 'width']\n",
    "k_values=range(1, 25)\n",
    "k_rmse=knn_train_test(train_feat, 'price', cars_clean, k_values)\n",
    "k_rmse_per_scene['5 featurs']=k_rmse\n",
    "print(k_rmse_per_scene)\n",
    "k_rmse_per_scene"
   ]
  },
  {
   "cell_type": "code",
   "execution_count": 136,
   "metadata": {
    "collapsed": false
   },
   "outputs": [
    {
     "data": {
      "image/png": "[encoded data removed]",
      "text/plain": [
       "<matplotlib.figure.Figure at 0x7fc2705623c8>"
      ]
     },
     "metadata": {},
     "output_type": "display_data"
    }
   ],
   "source": [
    "for feat, k_rmse in k_rmse_per_scene.items():\n",
    "    x=range(1, 25)\n",
    "    y=k_rmse\n",
    "    plt.plot(x, y)\n",
    "    plt.xlabel('k values')\n",
    "    plt.ylabel('rmse')\n",
    "plt.show()"
   ]
  },
  {
   "cell_type": "markdown",
   "metadata": {},
   "source": [
    "it seems like k value of 3 produces the most unbiased model using with "
   ]
  }
 ],
 "metadata": {
  "kernelspec": {
   "display_name": "Python 3",
   "language": "python",
   "name": "python3"
  },
  "language_info": {
   "codemirror_mode": {
    "name": "ipython",
    "version": 3
   },
   "file_extension": ".py",
   "mimetype": "text/x-python",
   "name": "python",
   "nbconvert_exporter": "python",
   "pygments_lexer": "ipython3",
   "version": "3.4.3"
  }
 },
 "nbformat": 4,
 "nbformat_minor": 2
}
